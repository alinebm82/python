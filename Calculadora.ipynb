{
  "nbformat": 4,
  "nbformat_minor": 0,
  "metadata": {
    "colab": {
      "name": "Calculadora.ipynb",
      "provenance": [],
      "collapsed_sections": [],
      "authorship_tag": "ABX9TyOozBnsTJhv2xaeAvfWhnDt",
      "include_colab_link": true
    },
    "kernelspec": {
      "name": "python3",
      "display_name": "Python 3"
    },
    "language_info": {
      "name": "python"
    }
  },
  "cells": [
    {
      "cell_type": "markdown",
      "metadata": {
        "id": "view-in-github",
        "colab_type": "text"
      },
      "source": [
        "<a href=\"https://colab.research.google.com/github/alinebm82/python/blob/main/Calculadora.ipynb\" target=\"_parent\"><img src=\"https://colab.research.google.com/assets/colab-badge.svg\" alt=\"Open In Colab\"/></a>"
      ]
    },
    {
      "cell_type": "code",
      "metadata": {
        "colab": {
          "base_uri": "https://localhost:8080/"
        },
        "id": "Xz_riPG__9CD",
        "outputId": "62d0eab4-a252-47ed-acc8-1a0048b29663"
      },
      "source": [
        "print (\"Olá, vamos calcular?!\")\n",
        "print (\"Soma -> tecle 1\")\n",
        "print (\"Subtração -> tecle 2\")\n",
        "print (\"Multiplicação -> tecle 3\")\n",
        "print (\"Divisão -> tecle 4\")\n",
        "usuario = int (input (\"Qual operação matemática você deseja realizar? \" ))\n",
        "while usuario < 5:\n",
        "  x = float (input(\"Digite o primeiro número: \"))\n",
        "  y = float (input(\"Digite o segundo número: \"))\n",
        "  if usuario==1:\n",
        "    print (\"A soma é: \", x+y)\n",
        "    break\n",
        "  elif usuario == 2:\n",
        "    print (\"A subtração é: \", x-y)\n",
        "    break\n",
        "  elif usuario == 3:\n",
        "    print (\"A multiplicação é: \", x*y)\n",
        "    break\n",
        "  elif usuario == 4:\n",
        "    print (\"A divisão é: \", x/y)\n",
        "    break\n",
        "else: \n",
        "  print (\"Não há essa operação matemática\")\n",
        "\n",
        "\n"
      ],
      "execution_count": null,
      "outputs": [
        {
          "output_type": "stream",
          "text": [
            "Olá, vamos calcular?!\n",
            "Soma -> tecle 1\n",
            "Subtração -> tecle 2\n",
            "Multiplicação -> tecle 3\n",
            "Divisão -> tecle 4\n",
            "Qual operação matemática você deseja realizar? 4\n",
            "Digite o primeiro número: 88\n",
            "Digite o segundo número: 2\n",
            "A divisão é:  44.0\n"
          ],
          "name": "stdout"
        }
      ]
    }
  ]
}